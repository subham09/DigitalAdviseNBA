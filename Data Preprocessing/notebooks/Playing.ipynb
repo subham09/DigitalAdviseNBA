{
 "cells": [
  {
   "cell_type": "code",
   "execution_count": 13,
   "metadata": {},
   "outputs": [],
   "source": [
    "import pandas as pd\n",
    "from sklearn.preprocessing import MinMaxScaler\n",
    "\n",
    "# Read the data from the Excel file\n",
    "data = pd.read_excel('../data/raw/simulated_data.xlsx')\n",
    "\n",
    "# Preprocess the age column\n",
    "data['Age'] = pd.to_datetime(data['Date of Birth']).apply(lambda x: (pd.Timestamp.now() - x).days // 365.25)  # Calculate age from Date of Birth\n",
    "data['Age'] = data['Age'].fillna(data['Age'].mean())  # Replace missing values with the mean\n",
    "\n",
    "# Preprocess the currentSG column\n",
    "data['CurrentSG'] = data['Current SG'].fillna(0)  # Replace missing values with 0\n",
    "\n",
    "# Preprocess the income column\n",
    "data['Income'] = data['Income'].fillna(0).apply(lambda x: str(x).replace('$', '').replace(',', '')).astype(float)\n",
    "\n",
    "# Preprocess the super balance column\n",
    "data['Super Balance'] = data['Super Balance'].fillna(data['Super Balance'].median())  # Replace missing values with the median\n",
    "\n",
    "# Preprocess the risk profile column\n",
    "data['Risk Profile'] = data['Risk Profile'].map({'Defensive': 1, 'Conservative': 2, 'Moderate': 3, 'Balanced': 4, 'Growth': 5, 'High Growth': 6})  # Map categorical values to numerical values\n",
    "\n",
    "# Create a feature scaler for all columns\n",
    "scaler = MinMaxScaler()\n",
    "columns_to_scale = ['Age','CurrentSG', 'Income', 'Super Balance', 'Risk Profile']\n",
    "data[columns_to_scale] = scaler.fit_transform(data[columns_to_scale])\n",
    "\n",
    "\n",
    "\n",
    "\n",
    "\n"
   ]
  },
  {
   "cell_type": "code",
   "execution_count": null,
   "metadata": {},
   "outputs": [],
   "source": []
  }
 ],
 "metadata": {
  "kernelspec": {
   "display_name": "venv",
   "language": "python",
   "name": "python3"
  },
  "language_info": {
   "codemirror_mode": {
    "name": "ipython",
    "version": 3
   },
   "file_extension": ".py",
   "mimetype": "text/x-python",
   "name": "python",
   "nbconvert_exporter": "python",
   "pygments_lexer": "ipython3",
   "version": "3.10.11"
  }
 },
 "nbformat": 4,
 "nbformat_minor": 2
}
